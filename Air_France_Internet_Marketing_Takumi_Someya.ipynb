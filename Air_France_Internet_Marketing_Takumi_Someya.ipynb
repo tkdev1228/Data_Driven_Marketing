{
 "cells": [
  {
   "cell_type": "markdown",
   "metadata": {},
   "source": [
    "### Modeling Introduction \n",
    "\n",
    "- Air France is looking to enhance its SEM campaigns in the US to boost market share and profits. They're exploring whether a uniform approach across search engines or tailored strategies would work better. The analysis will focus on optimizing keywords, adjusting tactics, and evaluating key performance indicators' impact on future strategies. Additionally, they're considering partnering with metasearch platforms like Kayak alongside traditional search engines. The aim is to provide useful insights and recommendations through R and Python analysis to improve SEM campaign effectiveness.\n"
   ]
  },
  {
   "cell_type": "markdown",
   "metadata": {
    "deletable": false,
    "editable": false,
    "run_control": {
     "frozen": true
    }
   },
   "source": [
    "<hr style=\"height:.9px;border:none;color:#333;background-color:#333;\" /><br>\n",
    "\n",
    "<h2>Part I: Imports and Data Check</h2>"
   ]
  },
  {
   "cell_type": "code",
   "execution_count": 1,
   "metadata": {},
   "outputs": [],
   "source": [
    "import numpy             as np                       # mathematical essentials\n",
    "import pandas            as pd                       # data science essentials\n",
    "import matplotlib.pyplot as plt                      # essential graphical output\n",
    "import seaborn as sns                                # enhanced graphical output\n",
    "\n",
    "\n",
    "\n",
    "from sklearn.metrics import mean_squared_error       # Function to calculate mean squared error\n",
    "from sklearn.metrics import r2_score                 # Function to compute the R^2 score\n",
    "from sklearn.impute import SimpleImputer             # Provides a simple imputer class for filling missing values\n",
    "from sklearn.preprocessing import StandardScaler     # Provides scaling functionality for standardizing data\n",
    "from sklearn.model_selection import train_test_split # train/test split\n",
    "\n",
    "from sklearn.linear_model import Lasso               # Class for building Lasso models\n",
    "from sklearn.neighbors import KNeighborsRegressor    # Class for building KNN models\n",
    "from sklearn.tree import DecisionTreeRegressor       # Class for building decision tree regression models\n",
    "\n",
    "# setting pandas print options (optional)\n",
    "pd.set_option('display.max_rows', 500)\n",
    "pd.set_option('display.max_columns', 500)\n",
    "pd.set_option('display.width', 1000)"
   ]
  },
  {
   "cell_type": "code",
   "execution_count": 2,
   "metadata": {},
   "outputs": [],
   "source": [
    "# Read training data\n",
    "modeling_data = './train.csv'\n",
    "df_train = pd.read_csv(modeling_data, header=0, index_col='entry_id')\n",
    "\n",
    "# Read test data\n",
    "testing_data = './test.csv'\n",
    "df_test = pd.read_csv(testing_data, header=0, index_col='entry_id')\n"
   ]
  },
  {
   "cell_type": "code",
   "execution_count": 3,
   "metadata": {},
   "outputs": [],
   "source": [
    "# Combine datasets\n",
    "df_train['set'] = 'Not Kaggle'\n",
    "df_test['set'] = 'Kaggle'"
   ]
  },
  {
   "cell_type": "code",
   "execution_count": 4,
   "metadata": {},
   "outputs": [
    {
     "data": {
      "text/html": [
       "<div>\n",
       "<style scoped>\n",
       "    .dataframe tbody tr th:only-of-type {\n",
       "        vertical-align: middle;\n",
       "    }\n",
       "\n",
       "    .dataframe tbody tr th {\n",
       "        vertical-align: top;\n",
       "    }\n",
       "\n",
       "    .dataframe thead th {\n",
       "        text-align: right;\n",
       "    }\n",
       "</style>\n",
       "<table border=\"1\" class=\"dataframe\">\n",
       "  <thead>\n",
       "    <tr style=\"text-align: right;\">\n",
       "      <th></th>\n",
       "      <th>Publisher Name</th>\n",
       "      <th>Keyword</th>\n",
       "      <th>Match Type</th>\n",
       "      <th>Campaign</th>\n",
       "      <th>Keyword Group</th>\n",
       "      <th>Category</th>\n",
       "      <th>Bid Strategy</th>\n",
       "      <th>Status</th>\n",
       "      <th>Search Engine Bid</th>\n",
       "      <th>Clicks</th>\n",
       "      <th>Click Charges</th>\n",
       "      <th>Avg. Cost per Click</th>\n",
       "      <th>Impressions</th>\n",
       "      <th>Engine Click Thru %</th>\n",
       "      <th>Avg. Pos.</th>\n",
       "      <th>Trans. Conv. %</th>\n",
       "      <th>Total Cost/ Trans.</th>\n",
       "      <th>Amount</th>\n",
       "      <th>Total Cost</th>\n",
       "      <th>Total Volume of Bookings</th>\n",
       "      <th>set</th>\n",
       "    </tr>\n",
       "  </thead>\n",
       "  <tbody>\n",
       "    <tr>\n",
       "      <th>0</th>\n",
       "      <td>Google - Global</td>\n",
       "      <td>fly to nice</td>\n",
       "      <td>Broad</td>\n",
       "      <td>Air France Global Campaign</td>\n",
       "      <td>Nice</td>\n",
       "      <td>nice</td>\n",
       "      <td>Position 1- 3</td>\n",
       "      <td>Unavailable</td>\n",
       "      <td>$1.25</td>\n",
       "      <td>15</td>\n",
       "      <td>$14.31</td>\n",
       "      <td>$0.95</td>\n",
       "      <td>380</td>\n",
       "      <td>3.95%</td>\n",
       "      <td>1.85</td>\n",
       "      <td>0.00%</td>\n",
       "      <td>$0.00</td>\n",
       "      <td>$0.00</td>\n",
       "      <td>$14.31</td>\n",
       "      <td>0.0</td>\n",
       "      <td>Not Kaggle</td>\n",
       "    </tr>\n",
       "    <tr>\n",
       "      <th>1</th>\n",
       "      <td>Yahoo - US</td>\n",
       "      <td>munich airport</td>\n",
       "      <td>Advanced</td>\n",
       "      <td>Western Europe Destinations</td>\n",
       "      <td>Munich</td>\n",
       "      <td>uncategorized</td>\n",
       "      <td>NaN</td>\n",
       "      <td>Paused</td>\n",
       "      <td>$6.25</td>\n",
       "      <td>1</td>\n",
       "      <td>$5.71</td>\n",
       "      <td>$5.71</td>\n",
       "      <td>25</td>\n",
       "      <td>4.00%</td>\n",
       "      <td>1.84</td>\n",
       "      <td>0.00%</td>\n",
       "      <td>$0.00</td>\n",
       "      <td>$0.00</td>\n",
       "      <td>$5.71</td>\n",
       "      <td>0.0</td>\n",
       "      <td>Not Kaggle</td>\n",
       "    </tr>\n",
       "    <tr>\n",
       "      <th>2</th>\n",
       "      <td>Overture - Global</td>\n",
       "      <td>chicago to paris</td>\n",
       "      <td>Advanced</td>\n",
       "      <td>Unassigned</td>\n",
       "      <td>Unassigned</td>\n",
       "      <td>paris</td>\n",
       "      <td>Position 1-2 Target</td>\n",
       "      <td>Sent</td>\n",
       "      <td>$0.45</td>\n",
       "      <td>14</td>\n",
       "      <td>$5.99</td>\n",
       "      <td>$0.43</td>\n",
       "      <td>2,315</td>\n",
       "      <td>0.60%</td>\n",
       "      <td>4.48</td>\n",
       "      <td>0.00%</td>\n",
       "      <td>$0.00</td>\n",
       "      <td>$0.00</td>\n",
       "      <td>$5.99</td>\n",
       "      <td>0.0</td>\n",
       "      <td>Not Kaggle</td>\n",
       "    </tr>\n",
       "    <tr>\n",
       "      <th>3</th>\n",
       "      <td>Yahoo - US</td>\n",
       "      <td>discount international airfare</td>\n",
       "      <td>Advanced</td>\n",
       "      <td>Geo Targeted Los Angeles</td>\n",
       "      <td>Discount International Los Angeles</td>\n",
       "      <td>uncategorized</td>\n",
       "      <td>NaN</td>\n",
       "      <td>Paused</td>\n",
       "      <td>$6.25</td>\n",
       "      <td>9</td>\n",
       "      <td>$22.04</td>\n",
       "      <td>$2.45</td>\n",
       "      <td>86</td>\n",
       "      <td>10.47%</td>\n",
       "      <td>1.42</td>\n",
       "      <td>0.00%</td>\n",
       "      <td>$0.00</td>\n",
       "      <td>$0.00</td>\n",
       "      <td>$22.04</td>\n",
       "      <td>0.0</td>\n",
       "      <td>Not Kaggle</td>\n",
       "    </tr>\n",
       "    <tr>\n",
       "      <th>4</th>\n",
       "      <td>Google - US</td>\n",
       "      <td>cont:google_yearlong 2006::google|marrakech</td>\n",
       "      <td>NaN</td>\n",
       "      <td>Google_Yearlong 2006</td>\n",
       "      <td>Google|marrakech</td>\n",
       "      <td>uncategorized</td>\n",
       "      <td>NaN</td>\n",
       "      <td>Unavailable</td>\n",
       "      <td>$7.50</td>\n",
       "      <td>1</td>\n",
       "      <td>$4.63</td>\n",
       "      <td>$4.63</td>\n",
       "      <td>19</td>\n",
       "      <td>5.26%</td>\n",
       "      <td>1.53</td>\n",
       "      <td>0.00%</td>\n",
       "      <td>$0.00</td>\n",
       "      <td>$0.00</td>\n",
       "      <td>$4.63</td>\n",
       "      <td>0.0</td>\n",
       "      <td>Not Kaggle</td>\n",
       "    </tr>\n",
       "  </tbody>\n",
       "</table>\n",
       "</div>"
      ],
      "text/plain": [
       "      Publisher Name                                      Keyword Match Type                     Campaign                       Keyword Group       Category         Bid Strategy       Status Search Engine Bid Clicks Click Charges Avg. Cost per Click Impressions Engine Click Thru %  Avg. Pos. Trans. Conv. % Total Cost/ Trans. Amount Total Cost  Total Volume of Bookings         set\n",
       "0    Google - Global                                  fly to nice      Broad   Air France Global Campaign                                Nice           nice        Position 1- 3  Unavailable             $1.25     15        $14.31               $0.95         380               3.95%       1.85          0.00%              $0.00  $0.00     $14.31                       0.0  Not Kaggle\n",
       "1         Yahoo - US                               munich airport   Advanced  Western Europe Destinations                              Munich  uncategorized                  NaN       Paused             $6.25      1         $5.71               $5.71          25               4.00%       1.84          0.00%              $0.00  $0.00      $5.71                       0.0  Not Kaggle\n",
       "2  Overture - Global                             chicago to paris   Advanced                   Unassigned                          Unassigned          paris  Position 1-2 Target         Sent             $0.45     14         $5.99               $0.43       2,315               0.60%       4.48          0.00%              $0.00  $0.00      $5.99                       0.0  Not Kaggle\n",
       "3         Yahoo - US               discount international airfare   Advanced     Geo Targeted Los Angeles  Discount International Los Angeles  uncategorized                  NaN       Paused             $6.25      9        $22.04               $2.45          86              10.47%       1.42          0.00%              $0.00  $0.00     $22.04                       0.0  Not Kaggle\n",
       "4        Google - US  cont:google_yearlong 2006::google|marrakech        NaN         Google_Yearlong 2006                    Google|marrakech  uncategorized                  NaN  Unavailable             $7.50      1         $4.63               $4.63          19               5.26%       1.53          0.00%              $0.00  $0.00      $4.63                       0.0  Not Kaggle"
      ]
     },
     "execution_count": 4,
     "metadata": {},
     "output_type": "execute_result"
    }
   ],
   "source": [
    "df_full = pd.concat([df_train, df_test], axis=0, ignore_index=True)\n",
    "df_full.head()"
   ]
  },
  {
   "cell_type": "code",
   "execution_count": 5,
   "metadata": {},
   "outputs": [],
   "source": [
    "# 'The list to remove $'\n",
    "columns_to_clean = ['Search Engine Bid', 'Click Charges', 'Avg. Cost per Click', \n",
    "                    'Total Cost/ Trans.', 'Amount', 'Total Cost', 'Engine Click Thru %', 'Trans. Conv. %']\n",
    "\n",
    "# 'The list to remove '%'\n",
    "columns_to_clean_percentage = ['Engine Click Thru %', 'Trans. Conv. %']\n",
    "\n",
    "# Remove '$'\n",
    "df_full[columns_to_clean] = df_full[columns_to_clean].replace({'\\$': ''}, regex=True)\n",
    "\n",
    "# Remove '%'\n",
    "df_full[columns_to_clean_percentage] = df_full[columns_to_clean_percentage].replace({'%': ''}, regex=True)\n"
   ]
  },
  {
   "cell_type": "code",
   "execution_count": 6,
   "metadata": {},
   "outputs": [
    {
     "data": {
      "text/plain": [
       "Publisher Name               object\n",
       "Keyword                      object\n",
       "Match Type                   object\n",
       "Campaign                     object\n",
       "Keyword Group                object\n",
       "Category                     object\n",
       "Bid Strategy                 object\n",
       "Status                       object\n",
       "Search Engine Bid           float64\n",
       "Clicks                      float64\n",
       "Click Charges               float64\n",
       "Avg. Cost per Click         float64\n",
       "Impressions                 float64\n",
       "Engine Click Thru %         float64\n",
       "Avg. Pos.                   float64\n",
       "Trans. Conv. %              float64\n",
       "Total Cost/ Trans.          float64\n",
       "Amount                      float64\n",
       "Total Cost                  float64\n",
       "Total Volume of Bookings    float64\n",
       "set                          object\n",
       "dtype: object"
      ]
     },
     "execution_count": 6,
     "metadata": {},
     "output_type": "execute_result"
    }
   ],
   "source": [
    "# The list to convert them to numeric\n",
    "columns_to_convert = ['Search Engine Bid', 'Clicks', 'Click Charges', \n",
    "                      'Avg. Cost per Click', 'Trans. Conv. %', 'Impressions', \n",
    "                      'Total Cost/ Trans.', 'Amount', 'Total Cost', 'Engine Click Thru %']\n",
    "\n",
    "# Convert them to numeric\n",
    "df_full[columns_to_convert] = df_full[columns_to_convert].apply(pd.to_numeric, errors='coerce')\n",
    "\n",
    "# Checking\n",
    "df_full.dtypes"
   ]
  },
  {
   "cell_type": "markdown",
   "metadata": {
    "deletable": false,
    "editable": false,
    "run_control": {
     "frozen": true
    }
   },
   "source": [
    "<br>"
   ]
  },
  {
   "cell_type": "code",
   "execution_count": 7,
   "metadata": {},
   "outputs": [],
   "source": [
    "#!##############################!#\n",
    "#!# set your response variable #!#\n",
    "#!##############################!#\n",
    "y_variable = 'Total Volume of Bookings'"
   ]
  },
  {
   "cell_type": "markdown",
   "metadata": {
    "deletable": false,
    "editable": false,
    "run_control": {
     "frozen": true
    }
   },
   "source": [
    "<br><hr style=\"height:.9px;border:none;color:#333;background-color:#333;\" /><br>\n",
    "\n",
    "<h2>Part II: Data Preparation</h2><br>\n",
    "Complete the following steps to prepare for model building. Note that you may add or remove steps as you see fit. Please see the assignment description for details on what steps are required for this project.\n",
    "<br><br>\n",
    "<h3>Base Modeling</h3>"
   ]
  },
  {
   "cell_type": "markdown",
   "metadata": {},
   "source": [
    "### Exploratory Data Analysis and Data Preprocessing\n",
    "\n",
    "#### In the EDA part\n",
    "\n",
    "I will give an overview of the dataset, check descriptive statistics, and identify trends using data distributions.\n",
    "First, I use df.info() to quickly identify the columns (features) and their types in the dataset. This is an important step in setting a course for subsequent exploratory data analysis (EDA).\n",
    "\n",
    "The next step is to check the descriptive statistics using df_full.describe(). Indicators such as Max, Min, and std for each feature can be quantitatively calculated here. Finally, at the end of this part, a heat map is used to visualize the correlation between each feature. I will analyze these descriptive statistics together with the heatmap. This will help me to formulate a idea to properly perform the DP that I will do in the next part.\n",
    "\n",
    "#### The DP part \n",
    "\n",
    "It is the checks for the presence of missing values for each feature, and then treats them.\n",
    "If the dataset has missing values, I look at the histogram of the feature and check its distribution trend. If the shape of the distribution is normal, or if it is based on a normal distribution with skewed kurtosis and skewness, I do imputation using the median value of the \n",
    "distribution.\n",
    "\n",
    "#### Feature Engineering part\n",
    "\n",
    "Both intuitive taking advantage of domain knowledge and data-driven approaches are useful for feature engineering. This issue includes many formulas used especially in the digital marketing domain. We will therefore proceed with our analysis, taking into account their relationship to each other."
   ]
  },
  {
   "cell_type": "markdown",
   "metadata": {},
   "source": [
    "### Exploratory Data Analysis"
   ]
  },
  {
   "cell_type": "code",
   "execution_count": 8,
   "metadata": {
    "scrolled": true
   },
   "outputs": [
    {
     "name": "stdout",
     "output_type": "stream",
     "text": [
      "<class 'pandas.core.frame.DataFrame'>\n",
      "RangeIndex: 4510 entries, 0 to 4509\n",
      "Data columns (total 21 columns):\n",
      " #   Column                    Non-Null Count  Dtype  \n",
      "---  ------                    --------------  -----  \n",
      " 0   Publisher Name            4510 non-null   object \n",
      " 1   Keyword                   4510 non-null   object \n",
      " 2   Match Type                4462 non-null   object \n",
      " 3   Campaign                  4510 non-null   object \n",
      " 4   Keyword Group             4510 non-null   object \n",
      " 5   Category                  4510 non-null   object \n",
      " 6   Bid Strategy              3286 non-null   object \n",
      " 7   Status                    4510 non-null   object \n",
      " 8   Search Engine Bid         4510 non-null   float64\n",
      " 9   Clicks                    4429 non-null   float64\n",
      " 10  Click Charges             4385 non-null   float64\n",
      " 11  Avg. Cost per Click       4510 non-null   float64\n",
      " 12  Impressions               3482 non-null   float64\n",
      " 13  Engine Click Thru %       4510 non-null   float64\n",
      " 14  Avg. Pos.                 4510 non-null   float64\n",
      " 15  Trans. Conv. %            4510 non-null   float64\n",
      " 16  Total Cost/ Trans.        4478 non-null   float64\n",
      " 17  Amount                    4272 non-null   float64\n",
      " 18  Total Cost                4385 non-null   float64\n",
      " 19  Total Volume of Bookings  4410 non-null   float64\n",
      " 20  set                       4510 non-null   object \n",
      "dtypes: float64(12), object(9)\n",
      "memory usage: 740.0+ KB\n"
     ]
    }
   ],
   "source": [
    "# Checking the Data information\n",
    "df_full.info(verbose = True)"
   ]
  },
  {
   "cell_type": "code",
   "execution_count": 9,
   "metadata": {},
   "outputs": [
    {
     "data": {
      "text/html": [
       "<div>\n",
       "<style scoped>\n",
       "    .dataframe tbody tr th:only-of-type {\n",
       "        vertical-align: middle;\n",
       "    }\n",
       "\n",
       "    .dataframe tbody tr th {\n",
       "        vertical-align: top;\n",
       "    }\n",
       "\n",
       "    .dataframe thead th {\n",
       "        text-align: right;\n",
       "    }\n",
       "</style>\n",
       "<table border=\"1\" class=\"dataframe\">\n",
       "  <thead>\n",
       "    <tr style=\"text-align: right;\">\n",
       "      <th></th>\n",
       "      <th>Search Engine Bid</th>\n",
       "      <th>Clicks</th>\n",
       "      <th>Click Charges</th>\n",
       "      <th>Avg. Cost per Click</th>\n",
       "      <th>Impressions</th>\n",
       "      <th>Engine Click Thru %</th>\n",
       "      <th>Avg. Pos.</th>\n",
       "      <th>Trans. Conv. %</th>\n",
       "      <th>Total Cost/ Trans.</th>\n",
       "      <th>Amount</th>\n",
       "      <th>Total Cost</th>\n",
       "      <th>Total Volume of Bookings</th>\n",
       "    </tr>\n",
       "  </thead>\n",
       "  <tbody>\n",
       "    <tr>\n",
       "      <th>count</th>\n",
       "      <td>4510.000000</td>\n",
       "      <td>4429.000000</td>\n",
       "      <td>4385.000000</td>\n",
       "      <td>4510.000000</td>\n",
       "      <td>3482.000000</td>\n",
       "      <td>4510.000000</td>\n",
       "      <td>4510.000000</td>\n",
       "      <td>4510.000000</td>\n",
       "      <td>4478.000000</td>\n",
       "      <td>4272.000000</td>\n",
       "      <td>4385.000000</td>\n",
       "      <td>4410.000000</td>\n",
       "    </tr>\n",
       "    <tr>\n",
       "      <th>mean</th>\n",
       "      <td>5.434945</td>\n",
       "      <td>32.909460</td>\n",
       "      <td>44.652021</td>\n",
       "      <td>1.890860</td>\n",
       "      <td>193.340034</td>\n",
       "      <td>11.141457</td>\n",
       "      <td>1.929725</td>\n",
       "      <td>0.569266</td>\n",
       "      <td>13.577432</td>\n",
       "      <td>16.418411</td>\n",
       "      <td>44.652021</td>\n",
       "      <td>0.769841</td>\n",
       "    </tr>\n",
       "    <tr>\n",
       "      <th>std</th>\n",
       "      <td>3.301745</td>\n",
       "      <td>96.452893</td>\n",
       "      <td>116.078535</td>\n",
       "      <td>1.322372</td>\n",
       "      <td>241.668987</td>\n",
       "      <td>20.234530</td>\n",
       "      <td>1.075533</td>\n",
       "      <td>13.862477</td>\n",
       "      <td>78.411864</td>\n",
       "      <td>103.088540</td>\n",
       "      <td>116.078535</td>\n",
       "      <td>11.533078</td>\n",
       "    </tr>\n",
       "    <tr>\n",
       "      <th>min</th>\n",
       "      <td>0.000000</td>\n",
       "      <td>0.000000</td>\n",
       "      <td>0.000000</td>\n",
       "      <td>0.000000</td>\n",
       "      <td>0.000000</td>\n",
       "      <td>0.000000</td>\n",
       "      <td>0.000000</td>\n",
       "      <td>0.000000</td>\n",
       "      <td>0.000000</td>\n",
       "      <td>0.000000</td>\n",
       "      <td>0.000000</td>\n",
       "      <td>0.000000</td>\n",
       "    </tr>\n",
       "    <tr>\n",
       "      <th>25%</th>\n",
       "      <td>3.387500</td>\n",
       "      <td>1.000000</td>\n",
       "      <td>2.210000</td>\n",
       "      <td>0.830000</td>\n",
       "      <td>16.000000</td>\n",
       "      <td>1.530000</td>\n",
       "      <td>1.140000</td>\n",
       "      <td>0.000000</td>\n",
       "      <td>0.000000</td>\n",
       "      <td>0.000000</td>\n",
       "      <td>2.210000</td>\n",
       "      <td>0.000000</td>\n",
       "    </tr>\n",
       "    <tr>\n",
       "      <th>50%</th>\n",
       "      <td>6.250000</td>\n",
       "      <td>4.000000</td>\n",
       "      <td>6.240000</td>\n",
       "      <td>1.650000</td>\n",
       "      <td>85.000000</td>\n",
       "      <td>4.105000</td>\n",
       "      <td>1.590000</td>\n",
       "      <td>0.000000</td>\n",
       "      <td>0.000000</td>\n",
       "      <td>0.000000</td>\n",
       "      <td>6.240000</td>\n",
       "      <td>0.000000</td>\n",
       "    </tr>\n",
       "    <tr>\n",
       "      <th>75%</th>\n",
       "      <td>6.250000</td>\n",
       "      <td>17.000000</td>\n",
       "      <td>24.590000</td>\n",
       "      <td>2.660000</td>\n",
       "      <td>285.750000</td>\n",
       "      <td>10.917500</td>\n",
       "      <td>2.310000</td>\n",
       "      <td>0.000000</td>\n",
       "      <td>0.000000</td>\n",
       "      <td>0.000000</td>\n",
       "      <td>24.590000</td>\n",
       "      <td>0.000000</td>\n",
       "    </tr>\n",
       "    <tr>\n",
       "      <th>max</th>\n",
       "      <td>27.500000</td>\n",
       "      <td>997.000000</td>\n",
       "      <td>998.390000</td>\n",
       "      <td>10.000000</td>\n",
       "      <td>997.000000</td>\n",
       "      <td>200.000000</td>\n",
       "      <td>15.000000</td>\n",
       "      <td>900.000000</td>\n",
       "      <td>986.020000</td>\n",
       "      <td>991.100000</td>\n",
       "      <td>998.390000</td>\n",
       "      <td>439.000000</td>\n",
       "    </tr>\n",
       "  </tbody>\n",
       "</table>\n",
       "</div>"
      ],
      "text/plain": [
       "       Search Engine Bid       Clicks  Click Charges  Avg. Cost per Click  Impressions  Engine Click Thru %    Avg. Pos.  Trans. Conv. %  Total Cost/ Trans.       Amount   Total Cost  Total Volume of Bookings\n",
       "count        4510.000000  4429.000000    4385.000000          4510.000000  3482.000000          4510.000000  4510.000000     4510.000000         4478.000000  4272.000000  4385.000000               4410.000000\n",
       "mean            5.434945    32.909460      44.652021             1.890860   193.340034            11.141457     1.929725        0.569266           13.577432    16.418411    44.652021                  0.769841\n",
       "std             3.301745    96.452893     116.078535             1.322372   241.668987            20.234530     1.075533       13.862477           78.411864   103.088540   116.078535                 11.533078\n",
       "min             0.000000     0.000000       0.000000             0.000000     0.000000             0.000000     0.000000        0.000000            0.000000     0.000000     0.000000                  0.000000\n",
       "25%             3.387500     1.000000       2.210000             0.830000    16.000000             1.530000     1.140000        0.000000            0.000000     0.000000     2.210000                  0.000000\n",
       "50%             6.250000     4.000000       6.240000             1.650000    85.000000             4.105000     1.590000        0.000000            0.000000     0.000000     6.240000                  0.000000\n",
       "75%             6.250000    17.000000      24.590000             2.660000   285.750000            10.917500     2.310000        0.000000            0.000000     0.000000    24.590000                  0.000000\n",
       "max            27.500000   997.000000     998.390000            10.000000   997.000000           200.000000    15.000000      900.000000          986.020000   991.100000   998.390000                439.000000"
      ]
     },
     "execution_count": 9,
     "metadata": {},
     "output_type": "execute_result"
    }
   ],
   "source": [
    "df_full.describe()"
   ]
  },
  {
   "cell_type": "code",
   "execution_count": 10,
   "metadata": {
    "scrolled": true
   },
   "outputs": [
    {
     "data": {
      "image/png": "[encoded data removed]",
      "text/plain": [
       "<Figure size 1080x1080 with 12 Axes>"
      ]
     },
     "metadata": {
      "needs_background": "light"
     },
     "output_type": "display_data"
    }
   ],
   "source": [
    "# Draw a histogram for each column to see the shape of the data distribution\n",
    "df_full.hist(bins=20, figsize=(15, 15))\n",
    "plt.show()\n"
   ]
  },
  {
   "cell_type": "markdown",
   "metadata": {},
   "source": [
    "### Insights from Histgram\n",
    "\n",
    "This is a histogram of each feature in the train data.It shows that all the features have strong peaks around 0 and 0.In particular, the target variables 'Total Volume of Bookings', 'Amount', 'Trans Conv %', and Total Cost/ Trans.' have almost the same shape.\n",
    "Also, 'Clicks', 'Click Charges', and 'Total Cost' have the same shape.Here, let us check the formulas for each of them.\n",
    "Click Charges'*'Avg. Cost per Click'='Click Charges'(='Total Cost') So the above columns are linked."
   ]
  },
  {
   "cell_type": "code",
   "execution_count": 11,
   "metadata": {
    "scrolled": false
   },
   "outputs": [
    {
     "data": {
      "image/png": "[encoded data removed]",
      "text/plain": [
       "<Figure size 720x576 with 2 Axes>"
      ]
     },
     "metadata": {
      "needs_background": "light"
     },
     "output_type": "display_data"
    }
   ],
   "source": [
    "# Assuming df_full is your DataFrame\n",
    "# Exclude non-numeric columns\n",
    "df_numeric = df_full.select_dtypes(include=['float64', 'int64'])\n",
    "\n",
    "# Now you can safely compute the correlation matrix and plot the heatmap\n",
    "plt.figure(figsize=(10, 8))\n",
    "mask = np.triu(np.ones_like(df_numeric.corr(), dtype=bool))  # mask the upper half of the map\n",
    "sns.heatmap(df_numeric.corr(), annot=True, cmap='coolwarm', fmt=\".2f\", mask=mask)\n",
    "plt.show()"
   ]
  },
  {
   "cell_type": "markdown",
   "metadata": {},
   "source": [
    "#### Insights from Heat Map\n",
    "\n",
    "This is a heat map showing the correlation coefficients between features in the train data.\n",
    "We look at the relationship between 'Total Volume of Bookings' and the other relationships.\n",
    "As mentioned in the discussion of the histogram, there is a strong correlation between 'Total Volume of Bookings' and 'Amount' at 0.84. On the other hand, the actual correlation coefficients for 'Trans Conv %' and 'Total Cost/ Trans.' are small.\n",
    "The correlation coefficient between 'Total Cost' and 'Click Charges' is 1.\n",
    "Furthermore, the correlation coefficients for 'Clicks', 'Click Charges', and 'Total Cost' are also high, which quantitatively supports what was stated in the histogram discussion."
   ]
  },
  {
   "cell_type": "markdown",
   "metadata": {
    "deletable": false,
    "editable": false,
    "run_control": {
     "frozen": true
    }
   },
   "source": [
    "<br><h3>Missing Value Analysis and Imputation</h3>"
   ]
  },
  {
   "cell_type": "code",
   "execution_count": 12,
   "metadata": {},
   "outputs": [
    {
     "name": "stdout",
     "output_type": "stream",
     "text": [
      "Publisher Name                 0\n",
      "Keyword                        0\n",
      "Match Type                    48\n",
      "Campaign                       0\n",
      "Keyword Group                  0\n",
      "Category                       0\n",
      "Bid Strategy                1224\n",
      "Status                         0\n",
      "Search Engine Bid              0\n",
      "Clicks                        81\n",
      "Click Charges                125\n",
      "Avg. Cost per Click            0\n",
      "Impressions                 1028\n",
      "Engine Click Thru %            0\n",
      "Avg. Pos.                      0\n",
      "Trans. Conv. %                 0\n",
      "Total Cost/ Trans.            32\n",
      "Amount                       238\n",
      "Total Cost                   125\n",
      "Total Volume of Bookings     100\n",
      "set                            0\n",
      "dtype: int64\n"
     ]
    }
   ],
   "source": [
    "# Count the total number of missing values in each column : Before\n",
    "missing_values = df_full.isnull().sum()\n",
    "print(missing_values)"
   ]
  },
  {
   "cell_type": "code",
   "execution_count": 13,
   "metadata": {},
   "outputs": [
    {
     "data": {
      "text/plain": [
       "Publisher Name               object\n",
       "Keyword                      object\n",
       "Match Type                   object\n",
       "Campaign                     object\n",
       "Keyword Group                object\n",
       "Category                     object\n",
       "Bid Strategy                 object\n",
       "Status                       object\n",
       "Search Engine Bid           float64\n",
       "Clicks                      float64\n",
       "Click Charges               float64\n",
       "Avg. Cost per Click         float64\n",
       "Impressions                 float64\n",
       "Engine Click Thru %         float64\n",
       "Avg. Pos.                   float64\n",
       "Trans. Conv. %              float64\n",
       "Total Cost/ Trans.          float64\n",
       "Amount                      float64\n",
       "Total Cost                  float64\n",
       "Total Volume of Bookings    float64\n",
       "set                          object\n",
       "dtype: object"
      ]
     },
     "execution_count": 13,
     "metadata": {},
     "output_type": "execute_result"
    }
   ],
   "source": [
    "df_full.dtypes"
   ]
  },
  {
   "cell_type": "code",
   "execution_count": 14,
   "metadata": {},
   "outputs": [],
   "source": [
    "# Median Imputation to columns with missing values\n",
    "median_imputer = SimpleImputer(strategy='median')\n",
    "df_full[['Click Charges']] = median_imputer.fit_transform(df_full.copy()[['Click Charges']])"
   ]
  },
  {
   "cell_type": "code",
   "execution_count": 15,
   "metadata": {},
   "outputs": [],
   "source": [
    "# Zero filling\n",
    "zero_imputer = SimpleImputer(strategy='constant', fill_value=0)\n",
    "columns_to_fill_zero = ['Clicks', 'Total Cost/ Trans.', 'Amount', 'Total Cost', 'Total Volume of Bookings']\n",
    "df_full[columns_to_fill_zero] = zero_imputer.fit_transform(df_full[columns_to_fill_zero])"
   ]
  },
  {
   "cell_type": "code",
   "execution_count": 16,
   "metadata": {},
   "outputs": [
    {
     "name": "stdout",
     "output_type": "stream",
     "text": [
      "Publisher Name                 0\n",
      "Keyword                        0\n",
      "Match Type                    48\n",
      "Campaign                       0\n",
      "Keyword Group                  0\n",
      "Category                       0\n",
      "Bid Strategy                1224\n",
      "Status                         0\n",
      "Search Engine Bid              0\n",
      "Clicks                         0\n",
      "Click Charges                  0\n",
      "Avg. Cost per Click            0\n",
      "Impressions                 1028\n",
      "Engine Click Thru %            0\n",
      "Avg. Pos.                      0\n",
      "Trans. Conv. %                 0\n",
      "Total Cost/ Trans.             0\n",
      "Amount                         0\n",
      "Total Cost                     0\n",
      "Total Volume of Bookings       0\n",
      "set                            0\n",
      "dtype: int64\n"
     ]
    }
   ],
   "source": [
    "# Count the total number of missing values in each column : After\n",
    "missing_values = df_full.isnull().sum()\n",
    "print(missing_values)"
   ]
  },
  {
   "cell_type": "markdown",
   "metadata": {},
   "source": [
    "### Analysis of missing values for impressions -> Drop it from x features later"
   ]
  },
  {
   "cell_type": "code",
   "execution_count": 17,
   "metadata": {},
   "outputs": [
    {
     "data": {
      "image/png": "[encoded data removed]",
      "text/plain": [
       "<Figure size 432x288 with 1 Axes>"
      ]
     },
     "metadata": {
      "needs_background": "light"
     },
     "output_type": "display_data"
    }
   ],
   "source": [
    "# scatter plot\n",
    "plt.scatter(df_full['Impressions'], df_full['Total Volume of Bookings'])\n",
    "\n",
    "# add labels and title\n",
    "plt.xlabel('Impressions')\n",
    "plt.ylabel('Total Volume of Bookings')\n",
    "plt.title('Scatter Plot of Impressions vs Total Volume of Bookings')\n",
    "\n",
    "# add grid\n",
    "plt.grid(True)\n",
    "\n",
    "# plot graph\n",
    "plt.show()"
   ]
  },
  {
   "cell_type": "markdown",
   "metadata": {},
   "source": [
    "- 'Scatter Plot of Impressions vs Total Volume of Bookings' \n",
    "\n",
    "This graph is a scatter plot showing the relationship between 'Impressions' and 'Total Volume of Bookings'.\n",
    "Looking at the number of missing values per column shown above, 'Impressions' is 1028.\n",
    "Since this is very large compared to the other columns, we examine it in detail in this graph.\n",
    "The graph is not dependent on the number of impressions, and the points where 'Total Volume of Bookings' = 0 are all over the place.\n",
    "Therefore, we believe that either impressions are not being measured well, or that there is almost no relationship with the 'Total Volume of Bookings'. We therefore exclude this column from the inputs to the model."
   ]
  },
  {
   "cell_type": "markdown",
   "metadata": {
    "deletable": false,
    "editable": false,
    "run_control": {
     "frozen": true
    }
   },
   "source": [
    "<br><h3>Feature Engineering</h3>"
   ]
  },
  {
   "cell_type": "markdown",
   "metadata": {},
   "source": [
    "### 7 Feature candidates"
   ]
  },
  {
   "cell_type": "markdown",
   "metadata": {},
   "source": [
    "### Net Revenue \n",
    "Net Revenue = Amount - Total Cost . \n",
    "\n",
    "This metric evaluates the overall contribution of publishers to a marketing campaign by subtracting the total cost incurred from the total amount generated. Essentially, it measures the profitability of the campaign after accounting for the expenses associated with advertising on various platforms or through different publishers. A higher net revenue indicates a more successful campaign in terms of generating income relative to the investment made.\n",
    "\n"
   ]
  },
  {
   "cell_type": "markdown",
   "metadata": {},
   "source": [
    "### Probability of Action\n",
    "\n",
    "Probability of Action = (Engine Click Thru % * Trans. Conv. %) / 10000\n",
    "\n",
    "By multiplying the Engine Click Thru %  (Click Thorugh Rate - CTR) by the Trans. Conv. % (Transaction Conversion Rate - TCR), the Probability of Action (PoA) estimates the likelihood that a user who sees the ad will take the desired action, such as making a purchase. This metric helps advertisers and marketers evaluate the effectiveness of their campaigns in driving user actions and conversions. A higher PoA suggests that the campaign is more successful in prompting desired user behaviors."
   ]
  },
  {
   "cell_type": "markdown",
   "metadata": {},
   "source": [
    "### Number of Conversions\n",
    "\n",
    "Number of Conversions Calculation = (Trans. Conv. % / 100) * Clicks.\n",
    "\n",
    "estimate actual number of conversions from the % conversion rate and total number of clicks"
   ]
  },
  {
   "cell_type": "markdown",
   "metadata": {},
   "source": [
    "### Keyword Efficiency Score (KES)\n",
    "\n",
    "Keyword Efficiency Score (KES) = (Trans. Conv. %) / Avg. Cost per Click\n",
    "\n",
    "Prioritize keywords with higher KES for optimization and budget allocation."
   ]
  },
  {
   "cell_type": "markdown",
   "metadata": {},
   "source": [
    "### Average Position Weighted by Clicks (APWC)\n",
    "\n",
    "Average Position Weighted by Clicks (APWC) = Sum(Avg. Pos. * Clicks) / Sum(Clicks)\n",
    "\n",
    "Goal: show avg and position  in the volume of clicks => shows  here most clicks are generated."
   ]
  },
  {
   "cell_type": "markdown",
   "metadata": {},
   "source": [
    "### Cost Efficiency Index (CEI)\n",
    "\n",
    "(Engine Click Thru % * Trans. Conv. %) / Avg. Cost per Click\n",
    "\n",
    "Show cost-efficient keywords by  CTR and conversion rates relative to cost"
   ]
  },
  {
   "cell_type": "markdown",
   "metadata": {},
   "source": [
    "### Segment Performance Score (SPS) for Keyword Groups\n",
    "\n",
    "Segment Performance Score (SPS) for Keyword Groups = Sum(Trans. Conv. % for each Keyword Group) / Count(Keywords in the Group)\n",
    "\n",
    "Evaluates the collective performance of keywords within the same group or category."
   ]
  },
  {
   "cell_type": "code",
   "execution_count": 18,
   "metadata": {},
   "outputs": [
    {
     "data": {
      "text/html": [
       "<div>\n",
       "<style scoped>\n",
       "    .dataframe tbody tr th:only-of-type {\n",
       "        vertical-align: middle;\n",
       "    }\n",
       "\n",
       "    .dataframe tbody tr th {\n",
       "        vertical-align: top;\n",
       "    }\n",
       "\n",
       "    .dataframe thead th {\n",
       "        text-align: right;\n",
       "    }\n",
       "</style>\n",
       "<table border=\"1\" class=\"dataframe\">\n",
       "  <thead>\n",
       "    <tr style=\"text-align: right;\">\n",
       "      <th></th>\n",
       "      <th>Publisher Name</th>\n",
       "      <th>Keyword</th>\n",
       "      <th>Match Type</th>\n",
       "      <th>Campaign</th>\n",
       "      <th>Keyword Group</th>\n",
       "      <th>Category</th>\n",
       "      <th>Bid Strategy</th>\n",
       "      <th>Status</th>\n",
       "      <th>Search Engine Bid</th>\n",
       "      <th>Clicks</th>\n",
       "      <th>Click Charges</th>\n",
       "      <th>Avg. Cost per Click</th>\n",
       "      <th>Impressions</th>\n",
       "      <th>Engine Click Thru %</th>\n",
       "      <th>Avg. Pos.</th>\n",
       "      <th>Trans. Conv. %</th>\n",
       "      <th>Total Cost/ Trans.</th>\n",
       "      <th>Amount</th>\n",
       "      <th>Total Cost</th>\n",
       "      <th>Total Volume of Bookings</th>\n",
       "      <th>set</th>\n",
       "      <th>Net Revenue</th>\n",
       "      <th>Probability of Action</th>\n",
       "      <th>Number of Conversions</th>\n",
       "      <th>Keyword Efficiency Score (KES)</th>\n",
       "      <th>APWC</th>\n",
       "      <th>Cost Efficiency Index (CEI)</th>\n",
       "      <th>SPS for Keyword Groups</th>\n",
       "    </tr>\n",
       "  </thead>\n",
       "  <tbody>\n",
       "    <tr>\n",
       "      <th>0</th>\n",
       "      <td>Google - Global</td>\n",
       "      <td>fly to nice</td>\n",
       "      <td>Broad</td>\n",
       "      <td>Air France Global Campaign</td>\n",
       "      <td>Nice</td>\n",
       "      <td>nice</td>\n",
       "      <td>Position 1- 3</td>\n",
       "      <td>Unavailable</td>\n",
       "      <td>1.25</td>\n",
       "      <td>15.0</td>\n",
       "      <td>14.31</td>\n",
       "      <td>0.95</td>\n",
       "      <td>380.0</td>\n",
       "      <td>3.95</td>\n",
       "      <td>1.85</td>\n",
       "      <td>0.0</td>\n",
       "      <td>0.0</td>\n",
       "      <td>0.0</td>\n",
       "      <td>14.31</td>\n",
       "      <td>0.0</td>\n",
       "      <td>Not Kaggle</td>\n",
       "      <td>0.0</td>\n",
       "      <td>0.0</td>\n",
       "      <td>0.0</td>\n",
       "      <td>0.0</td>\n",
       "      <td>1.931474</td>\n",
       "      <td>0.0</td>\n",
       "      <td>0.307582</td>\n",
       "    </tr>\n",
       "    <tr>\n",
       "      <th>1</th>\n",
       "      <td>Yahoo - US</td>\n",
       "      <td>munich airport</td>\n",
       "      <td>Advanced</td>\n",
       "      <td>Western Europe Destinations</td>\n",
       "      <td>Munich</td>\n",
       "      <td>uncategorized</td>\n",
       "      <td>NaN</td>\n",
       "      <td>Paused</td>\n",
       "      <td>6.25</td>\n",
       "      <td>1.0</td>\n",
       "      <td>5.71</td>\n",
       "      <td>5.71</td>\n",
       "      <td>25.0</td>\n",
       "      <td>4.00</td>\n",
       "      <td>1.84</td>\n",
       "      <td>0.0</td>\n",
       "      <td>0.0</td>\n",
       "      <td>0.0</td>\n",
       "      <td>5.71</td>\n",
       "      <td>0.0</td>\n",
       "      <td>Not Kaggle</td>\n",
       "      <td>0.0</td>\n",
       "      <td>0.0</td>\n",
       "      <td>0.0</td>\n",
       "      <td>0.0</td>\n",
       "      <td>1.931474</td>\n",
       "      <td>0.0</td>\n",
       "      <td>0.000000</td>\n",
       "    </tr>\n",
       "    <tr>\n",
       "      <th>2</th>\n",
       "      <td>Overture - Global</td>\n",
       "      <td>chicago to paris</td>\n",
       "      <td>Advanced</td>\n",
       "      <td>Unassigned</td>\n",
       "      <td>Unassigned</td>\n",
       "      <td>paris</td>\n",
       "      <td>Position 1-2 Target</td>\n",
       "      <td>Sent</td>\n",
       "      <td>0.45</td>\n",
       "      <td>14.0</td>\n",
       "      <td>5.99</td>\n",
       "      <td>0.43</td>\n",
       "      <td>NaN</td>\n",
       "      <td>0.60</td>\n",
       "      <td>4.48</td>\n",
       "      <td>0.0</td>\n",
       "      <td>0.0</td>\n",
       "      <td>0.0</td>\n",
       "      <td>5.99</td>\n",
       "      <td>0.0</td>\n",
       "      <td>Not Kaggle</td>\n",
       "      <td>0.0</td>\n",
       "      <td>0.0</td>\n",
       "      <td>0.0</td>\n",
       "      <td>0.0</td>\n",
       "      <td>1.931474</td>\n",
       "      <td>0.0</td>\n",
       "      <td>0.159044</td>\n",
       "    </tr>\n",
       "    <tr>\n",
       "      <th>3</th>\n",
       "      <td>Yahoo - US</td>\n",
       "      <td>discount international airfare</td>\n",
       "      <td>Advanced</td>\n",
       "      <td>Geo Targeted Los Angeles</td>\n",
       "      <td>Discount International Los Angeles</td>\n",
       "      <td>uncategorized</td>\n",
       "      <td>NaN</td>\n",
       "      <td>Paused</td>\n",
       "      <td>6.25</td>\n",
       "      <td>9.0</td>\n",
       "      <td>22.04</td>\n",
       "      <td>2.45</td>\n",
       "      <td>86.0</td>\n",
       "      <td>10.47</td>\n",
       "      <td>1.42</td>\n",
       "      <td>0.0</td>\n",
       "      <td>0.0</td>\n",
       "      <td>0.0</td>\n",
       "      <td>22.04</td>\n",
       "      <td>0.0</td>\n",
       "      <td>Not Kaggle</td>\n",
       "      <td>0.0</td>\n",
       "      <td>0.0</td>\n",
       "      <td>0.0</td>\n",
       "      <td>0.0</td>\n",
       "      <td>1.931474</td>\n",
       "      <td>0.0</td>\n",
       "      <td>0.000000</td>\n",
       "    </tr>\n",
       "    <tr>\n",
       "      <th>4</th>\n",
       "      <td>Google - US</td>\n",
       "      <td>cont:google_yearlong 2006::google|marrakech</td>\n",
       "      <td>NaN</td>\n",
       "      <td>Google_Yearlong 2006</td>\n",
       "      <td>Google|marrakech</td>\n",
       "      <td>uncategorized</td>\n",
       "      <td>NaN</td>\n",
       "      <td>Unavailable</td>\n",
       "      <td>7.50</td>\n",
       "      <td>1.0</td>\n",
       "      <td>4.63</td>\n",
       "      <td>4.63</td>\n",
       "      <td>19.0</td>\n",
       "      <td>5.26</td>\n",
       "      <td>1.53</td>\n",
       "      <td>0.0</td>\n",
       "      <td>0.0</td>\n",
       "      <td>0.0</td>\n",
       "      <td>4.63</td>\n",
       "      <td>0.0</td>\n",
       "      <td>Not Kaggle</td>\n",
       "      <td>0.0</td>\n",
       "      <td>0.0</td>\n",
       "      <td>0.0</td>\n",
       "      <td>0.0</td>\n",
       "      <td>1.931474</td>\n",
       "      <td>0.0</td>\n",
       "      <td>0.000000</td>\n",
       "    </tr>\n",
       "  </tbody>\n",
       "</table>\n",
       "</div>"
      ],
      "text/plain": [
       "      Publisher Name                                      Keyword Match Type                     Campaign                       Keyword Group       Category         Bid Strategy       Status  Search Engine Bid  Clicks  Click Charges  Avg. Cost per Click  Impressions  Engine Click Thru %  Avg. Pos.  Trans. Conv. %  Total Cost/ Trans.  Amount  Total Cost  Total Volume of Bookings         set  Net Revenue  Probability of Action  Number of Conversions  Keyword Efficiency Score (KES)      APWC  Cost Efficiency Index (CEI)  SPS for Keyword Groups\n",
       "0    Google - Global                                  fly to nice      Broad   Air France Global Campaign                                Nice           nice        Position 1- 3  Unavailable               1.25    15.0          14.31                 0.95        380.0                 3.95       1.85             0.0                 0.0     0.0       14.31                       0.0  Not Kaggle          0.0                    0.0                    0.0                             0.0  1.931474                          0.0                0.307582\n",
       "1         Yahoo - US                               munich airport   Advanced  Western Europe Destinations                              Munich  uncategorized                  NaN       Paused               6.25     1.0           5.71                 5.71         25.0                 4.00       1.84             0.0                 0.0     0.0        5.71                       0.0  Not Kaggle          0.0                    0.0                    0.0                             0.0  1.931474                          0.0                0.000000\n",
       "2  Overture - Global                             chicago to paris   Advanced                   Unassigned                          Unassigned          paris  Position 1-2 Target         Sent               0.45    14.0           5.99                 0.43          NaN                 0.60       4.48             0.0                 0.0     0.0        5.99                       0.0  Not Kaggle          0.0                    0.0                    0.0                             0.0  1.931474                          0.0                0.159044\n",
       "3         Yahoo - US               discount international airfare   Advanced     Geo Targeted Los Angeles  Discount International Los Angeles  uncategorized                  NaN       Paused               6.25     9.0          22.04                 2.45         86.0                10.47       1.42             0.0                 0.0     0.0       22.04                       0.0  Not Kaggle          0.0                    0.0                    0.0                             0.0  1.931474                          0.0                0.000000\n",
       "4        Google - US  cont:google_yearlong 2006::google|marrakech        NaN         Google_Yearlong 2006                    Google|marrakech  uncategorized                  NaN  Unavailable               7.50     1.0           4.63                 4.63         19.0                 5.26       1.53             0.0                 0.0     0.0        4.63                       0.0  Not Kaggle          0.0                    0.0                    0.0                             0.0  1.931474                          0.0                0.000000"
      ]
     },
     "execution_count": 18,
     "metadata": {},
     "output_type": "execute_result"
    }
   ],
   "source": [
    "# Net Revenue\n",
    "df_full['Net Revenue'] = np.where(df_full['Amount'] == 0, 0, df_full['Amount'] - df_full['Total Cost'])\n",
    "\n",
    "# Probability of Action\n",
    "df_full['Probability of Action'] = (df_full['Engine Click Thru %'] * df_full['Trans. Conv. %']) / 10000\n",
    "\n",
    "# Number of Conversions\n",
    "df_full['Number of Conversions'] = (df_full['Trans. Conv. %'] / 100) * df_full['Clicks']\n",
    "\n",
    "# Keyword Efficiency Score (KES)\n",
    "df_full['Keyword Efficiency Score (KES)'] = df_full['Trans. Conv. %'] / df_full['Avg. Cost per Click']\n",
    "\n",
    "# Average Position Weighted by Clicks (APWC)\n",
    "df_full['APWC'] = (df_full['Avg. Pos.'] * df_full['Clicks']).sum() / df_full['Clicks'].sum()\n",
    "\n",
    "# Cost Efficiency Index (CEI)\n",
    "df_full['Cost Efficiency Index (CEI)'] = (df_full['Engine Click Thru %'] * df_full['Trans. Conv. %']) / df_full['Avg. Cost per Click']\n",
    "\n",
    "# Segment Performance Score (SPS) for Keyword Groups\n",
    "SPS_group = df_full.groupby('Keyword Group')['Trans. Conv. %'].sum() / df_full.groupby('Keyword Group')['Keyword'].count()\n",
    "df_full['SPS for Keyword Groups'] = df_full['Keyword Group'].map(SPS_group)\n",
    "\n",
    "# Check to be added new features\n",
    "df_full.head()"
   ]
  },
  {
   "cell_type": "code",
   "execution_count": 19,
   "metadata": {
    "scrolled": true
   },
   "outputs": [
    {
     "data": {
      "text/plain": [
       "Total Volume of Bookings          1.00\n",
       "Search Engine Bid                 0.13\n",
       "Impressions                       0.10\n",
       "Total Cost/ Trans.                0.09\n",
       "Number of Conversions             0.07\n",
       "Cost Efficiency Index (CEI)       0.04\n",
       "Keyword Efficiency Score (KES)    0.03\n",
       "Total Cost                        0.02\n",
       "Probability of Action             0.02\n",
       "SPS for Keyword Groups            0.02\n",
       "Clicks                            0.02\n",
       "Trans. Conv. %                    0.02\n",
       "Click Charges                     0.02\n",
       "Engine Click Thru %               0.01\n",
       "Net Revenue                       0.00\n",
       "Amount                            0.00\n",
       "Avg. Pos.                        -0.03\n",
       "Avg. Cost per Click              -0.04\n",
       "APWC                               NaN\n",
       "Name: Total Volume of Bookings, dtype: float64"
      ]
     },
     "execution_count": 19,
     "metadata": {},
     "output_type": "execute_result"
    }
   ],
   "source": [
    "# Select only numeric columns from df_full \n",
    "df_numeric = df_full.select_dtypes(include=[np.number])\n",
    "\n",
    "# Get correlation with target column (Total Volume of Bookings) only for numeric columns\n",
    "correlation_with_rentals = df_numeric.corr()['Total Volume of Bookings'].round(decimals=2)\n",
    "\n",
    "# Sort correlations in descending order\n",
    "correlation_with_rentals_sorted = correlation_with_rentals.sort_values(ascending=False)\n",
    "\n",
    "# print correlation\n",
    "correlation_with_rentals_sorted"
   ]
  },
  {
   "cell_type": "code",
   "execution_count": 20,
   "metadata": {
    "scrolled": true
   },
   "outputs": [
    {
     "data": {
      "text/plain": [
       "array([[<AxesSubplot:title={'center':'Net Revenue'}>,\n",
       "        <AxesSubplot:title={'center':'Probability of Action'}>,\n",
       "        <AxesSubplot:title={'center':'Number of Conversions'}>],\n",
       "       [<AxesSubplot:title={'center':'Keyword Efficiency Score (KES)'}>,\n",
       "        <AxesSubplot:title={'center':'APWC'}>,\n",
       "        <AxesSubplot:title={'center':'Cost Efficiency Index (CEI)'}>],\n",
       "       [<AxesSubplot:title={'center':'SPS for Keyword Groups'}>,\n",
       "        <AxesSubplot:>, <AxesSubplot:>]], dtype=object)"
      ]
     },
     "execution_count": 20,
     "metadata": {},
     "output_type": "execute_result"
    },
    {
     "data": {
      "image/png": "[encoded data removed]",
      "text/plain": [
       "<Figure size 864x864 with 9 Axes>"
      ]
     },
     "metadata": {
      "needs_background": "light"
     },
     "output_type": "display_data"
    }
   ],
   "source": [
    "df_full[['Net Revenue', 'Probability of Action', 'Number of Conversions',\n",
    "          'Keyword Efficiency Score (KES)', 'APWC', 'Cost Efficiency Index (CEI)',\n",
    "          'SPS for Keyword Groups']].hist(bins=20, figsize=(12, 12))"
   ]
  },
  {
   "cell_type": "markdown",
   "metadata": {},
   "source": [
    "### The histgram of New features\n",
    "### The 7 Feature candidates -> Select 3 New Features to apply\n",
    "\n",
    "These are histograms of the new feature candidates.We analyze them together with the correlation coefficients for the 'Total Volume of Bookings' above.First, these seven features also have a strong peak around 0.This is due to the influence of the trend of the train data set used in the calculation.\n",
    "The 'Number of Conversions', 'Probability of Action', and 'SPS for Keyword Groups', which have correlation coefficients greater than 0, also have several small values other than 0 in the histogram.\n",
    "We can expect that these are related to the bookings established.\n",
    "\n",
    "### we finally select 'Number of Conversions','Probability of Action','SPS for Keyword Groups' as new features."
   ]
  },
  {
   "cell_type": "markdown",
   "metadata": {
    "deletable": false,
    "editable": false,
    "run_control": {
     "frozen": true
    }
   },
   "source": [
    "<br>"
   ]
  },
  {
   "cell_type": "markdown",
   "metadata": {
    "deletable": false,
    "editable": false,
    "run_control": {
     "frozen": true
    }
   },
   "source": [
    "<br><h3>Standardization</h3>"
   ]
  },
  {
   "cell_type": "code",
   "execution_count": 21,
   "metadata": {},
   "outputs": [],
   "source": [
    "## Standardization ##\n",
    "# Instantiating a StandardScaler() object\n",
    "scaler = StandardScaler()\n",
    "\n",
    "# Selecting the features for standardization\n",
    "features = df_full.columns.drop(['Publisher Name', 'Keyword', 'Match Type', 'Campaign', 'Keyword Group', 'Category', 'Bid Strategy', 'Status', 'Total Volume of Bookings', 'set'])\n",
    "\n",
    "# Fitting the scaler to the features\n",
    "scaler.fit(df_full[features])\n",
    "\n",
    "# Transforming the features and assigning back to df_full\n",
    "df_full.loc[:, features] = scaler.transform(df_full[features].copy())"
   ]
  },
  {
   "cell_type": "markdown",
   "metadata": {
    "deletable": false,
    "editable": false,
    "run_control": {
     "frozen": true
    }
   },
   "source": [
    "<br><hr style=\"height:.9px;border:none;color:#333;background-color:#333;\" /><br>\n",
    "\n",
    "<h2>Part III: Data Partitioning</h2><br>\n",
    "This is a very important step for your submission on Kaggle. Make sure to complete your data preparationbefore moving forward.\n",
    "<br>\n",
    "<br><h3>Separating the Kaggle Data</h3><br>"
   ]
  },
  {
   "cell_type": "code",
   "execution_count": 22,
   "metadata": {
    "deletable": false,
    "editable": false
   },
   "outputs": [],
   "source": [
    "## parsing out testing data (needed for later) ##\n",
    "\n",
    "# dataset for kaggle\n",
    "kaggle_data = df_full[ df_full['set'] == 'Kaggle' ].copy()\n",
    "\n",
    "\n",
    "# dataset for model building\n",
    "df = df_full[ df_full['set'] == 'Not Kaggle' ].copy()\n",
    "\n",
    "\n",
    "# dropping set identifier (kaggle)\n",
    "kaggle_data.drop(labels = 'set',\n",
    "                 axis = 1,\n",
    "                 inplace = True)\n",
    "\n",
    "\n",
    "# dropping set identifier (model building)\n",
    "df.drop(labels = 'set',\n",
    "        axis = 1,\n",
    "        inplace = True)"
   ]
  },
  {
   "cell_type": "markdown",
   "metadata": {
    "deletable": false,
    "editable": false,
    "run_control": {
     "frozen": true
    }
   },
   "source": [
    "<br><h3>Train-Test Split</h3><br>\n",
    "Note that the following code will remove non-numeric features, keeping only integer and float data types. It will also remove any observations that contain missing values. This is to prevent errors in the model building process. "
   ]
  },
  {
   "cell_type": "code",
   "execution_count": 23,
   "metadata": {},
   "outputs": [
    {
     "data": {
      "text/plain": [
       "Index(['Publisher Name', 'Keyword', 'Match Type', 'Campaign', 'Keyword Group', 'Category', 'Bid Strategy', 'Status', 'Search Engine Bid', 'Clicks', 'Click Charges', 'Avg. Cost per Click', 'Impressions', 'Engine Click Thru %', 'Avg. Pos.', 'Trans. Conv. %', 'Total Cost/ Trans.', 'Amount', 'Total Cost', 'Total Volume of Bookings', 'set', 'Net Revenue', 'Probability of Action', 'Number of Conversions', 'Keyword Efficiency Score (KES)', 'APWC', 'Cost Efficiency Index (CEI)', 'SPS for Keyword Groups'], dtype='object')"
      ]
     },
     "execution_count": 23,
     "metadata": {},
     "output_type": "execute_result"
    }
   ],
   "source": [
    "df_full.columns"
   ]
  },
  {
   "cell_type": "code",
   "execution_count": 24,
   "metadata": {},
   "outputs": [
    {
     "name": "stdout",
     "output_type": "stream",
     "text": [
      "\n",
      "Original Dataset Dimensions\n",
      "---------------------------\n",
      "Observations (Rows): 4410\n",
      "Features  (Columns): 27\n",
      "\n",
      "\n",
      "Training Data (X-side)\n",
      "----------------------\n",
      "Observations (Rows): 3307\n",
      "Features  (Columns): 13\n",
      "\n",
      "\n",
      "Training Data (y-side)\n",
      "----------------------\n",
      "Feature Name:        Total Volume of Bookings\n",
      "Observations (Rows): 3307\n",
      "\n",
      "\n",
      "Testing Data (X-side)\n",
      "---------------------\n",
      "Observations (Rows): 1103\n",
      "Features  (Columns): 13\n",
      "\n",
      "\n",
      "Testing Data (y-side)\n",
      "---------------------\n",
      "Feature Name:        Total Volume of Bookings\n",
      "Observations (Rows): 1103\n"
     ]
    }
   ],
   "source": [
    "#!###########################!#\n",
    "#!# choose your x-variables #!#\n",
    "#!###########################!#\n",
    "x_features = ['Publisher Name', 'Keyword', 'Match Type', 'Campaign', 'Keyword Group',\n",
    "              'Category', 'Bid Strategy', 'Status', 'Search Engine Bid', 'Clicks', 'Click Charges',\n",
    "              'Avg. Cost per Click', 'Engine Click Thru %', 'Avg. Pos.', 'Trans. Conv. %',\n",
    "              'Total Cost/ Trans.', 'Amount', 'Total Cost', \n",
    "              'Probability of Action', 'Number of Conversions','SPS for Keyword Groups'] # this should be a final list # impression excluded\n",
    "\n",
    "\n",
    "\n",
    "## ########################### ##\n",
    "## DON'T CHANGE THE CODE BELOW ##\n",
    "## ########################### ##\n",
    "\n",
    "# prepping data for train-test split\n",
    "y_data = df[y_variable]\n",
    "\n",
    "\n",
    "# removing non-numeric columns and missing values\n",
    "x_data = df[x_features].copy().select_dtypes(include=[int, float]).dropna(axis = 1)\n",
    "\n",
    "# storing remaining x_features after the step above\n",
    "x_features = list(x_data.columns)\n",
    "\n",
    "\n",
    "# train-test split (to validate the model)\n",
    "x_train, x_test, y_train, y_test = train_test_split(x_data, \n",
    "                                                    y_data, \n",
    "                                                    test_size    = 0.25,\n",
    "                                                    random_state = 702 )\n",
    "\n",
    "\n",
    "# results of train-test split\n",
    "print(f\"\"\"\n",
    "Original Dataset Dimensions\n",
    "---------------------------\n",
    "Observations (Rows): {df.shape[0]}\n",
    "Features  (Columns): {df.shape[1]}\n",
    "\n",
    "\n",
    "Training Data (X-side)\n",
    "----------------------\n",
    "Observations (Rows): {x_train.shape[0]}\n",
    "Features  (Columns): {x_train.shape[1]}\n",
    "\n",
    "\n",
    "Training Data (y-side)\n",
    "----------------------\n",
    "Feature Name:        {y_train.name}\n",
    "Observations (Rows): {y_train.shape[0]}\n",
    "\n",
    "\n",
    "Testing Data (X-side)\n",
    "---------------------\n",
    "Observations (Rows): {x_test.shape[0]}\n",
    "Features  (Columns): {x_test.shape[1]}\n",
    "\n",
    "\n",
    "Testing Data (y-side)\n",
    "---------------------\n",
    "Feature Name:        {y_test.name}\n",
    "Observations (Rows): {y_test.shape[0]}\"\"\")"
   ]
  },
  {
   "cell_type": "markdown",
   "metadata": {
    "deletable": false,
    "editable": false,
    "run_control": {
     "frozen": true
    }
   },
   "source": [
    "<hr style=\"height:.9px;border:none;color:#333;background-color:#333;\" /><br>\n",
    "\n",
    "<h2>Part III: Candidate Modeling</h2><br>\n",
    "Develop your candidate models below."
   ]
  },
  {
   "cell_type": "code",
   "execution_count": 25,
   "metadata": {},
   "outputs": [
    {
     "name": "stdout",
     "output_type": "stream",
     "text": [
      "Model Name: Lasso Regression\n",
      "Train R2 Score: 0.012058296980247851\n",
      "Test R2 Score: 0.02505968201312425\n",
      "Train-Test Gap: 0.013\n",
      "Training RMSE: 12.644871522533904\n",
      "Test RMSE: 6.718204559076825\n",
      "Model Name: K-Nearest Neighbors\n",
      "Train R2 Score: 0.5669477071836121\n",
      "Test R2 Score: 0.6766110259443446\n",
      "Train-Test Gap: 0.1097\n",
      "Training RMSE: 8.371801705968197\n",
      "Test RMSE: 3.8692501868139217\n",
      "Model Name: Decision Tree Regressor\n",
      "Train R2 Score: 1.0\n",
      "Test R2 Score: -3.8114360030608188\n",
      "Train-Test Gap: 4.8114\n",
      "Training RMSE: 0.0\n",
      "Test RMSE: 14.924560978431227\n"
     ]
    }
   ],
   "source": [
    "# Define model name and model correspondence\n",
    "models = {\n",
    "    \"Lasso Regression\": Lasso(),                         # Lasso Regression\n",
    "    \"K-Nearest Neighbors\": KNeighborsRegressor(),        # K-Nearest Neighbors\n",
    "    \"Decision Tree Regressor\": DecisionTreeRegressor()   # Decision Tree Regressor\n",
    "}\n",
    "\n",
    "# Loop and run for each model\n",
    "for model_name, model in models.items():\n",
    "    # Train model\n",
    "    model.fit(x_train, y_train)\n",
    "\n",
    "    # Predict with train data and test data\n",
    "    y_train_pred = model.predict(x_train)\n",
    "    y_test_pred = model.predict(x_test)\n",
    "\n",
    "    # Calculate R2 score \n",
    "    train_r2_score = r2_score(y_train, y_train_pred)\n",
    "    test_r2_score = r2_score(y_test, y_test_pred)\n",
    "    \n",
    "    # Calculate Train-Test Gap\n",
    "    model_gap = abs(train_r2_score - test_r2_score).round(4)\n",
    "\n",
    "    train_rmse = np.sqrt(mean_squared_error(y_train, y_train_pred))\n",
    "    test_rmse = np.sqrt(mean_squared_error(y_test, y_test_pred))\n",
    "\n",
    "    # Print\n",
    "    print(f\"Model Name: {model_name}\") # model name\n",
    "    print(f\"Train R2 Score: {train_r2_score}\") # train r2 score\n",
    "    print(f\"Test R2 Score: {test_r2_score}\") # test r2 score\n",
    "    print(f\"Train-Test Gap: {model_gap}\") # train test gap\n",
    "    print(\"Training RMSE:\", train_rmse) # train rmse\n",
    "    print(\"Test RMSE:\", test_rmse) # test rmse"
   ]
  },
  {
   "cell_type": "markdown",
   "metadata": {},
   "source": [
    "<br>\n",
    "<h3>Model Results With Hyper-parameter tuning</h3><br>\n",
    "Remember that some models have coefficients, visual outputs, etc. Make sure to analyze relevant results for the models you build."
   ]
  },
  {
   "cell_type": "markdown",
   "metadata": {},
   "source": [
    "### Lasso Regression with Hyper-parameter tuning\n",
    "\n",
    "The Lasso Regression results show that the model is not performing as well as expected: both the Training Score and Test Score R^2 values are low, indicating limited explanatory power in the predictions; the Train-Test Gap is 0.029, which is relatively small, the problem of overtraining is less pronounced, but it is possible that the model does not fit the data well.\n",
    "\n",
    "Also, the RMSEs of 12.5 (Training) and 6.62 (Test) are very different between the Training and Test RMSEs, indicating that the model may be over-trained. In other words, the model may fit the training data well, but perform poorly on unknown data.\n",
    "\n",
    "In addition, Coefficients shows that the weights for some of the features are close to zero. This means that these features may have little impact on the model. This could mean that the selected features are not very useful for prediction or that the model could not find appropriate regularization parameters.\n"
   ]
  },
  {
   "cell_type": "code",
   "execution_count": 26,
   "metadata": {
    "code_folding": []
   },
   "outputs": [
    {
     "name": "stdout",
     "output_type": "stream",
     "text": [
      "Training Score (R^2): 0.029449665817766868\n",
      "Test Score (R^2): 0.051321743003639564\n",
      "Train-Test Gap: 0.0219\n",
      "Training RMSE: 12.5330794762688\n",
      "Test RMSE: 6.627102403320672\n",
      "Coefficients:\n",
      "Feature 0: 1.3252386189357601\n",
      "Feature 1: -0.0\n",
      "Feature 2: 0.0\n",
      "Feature 3: -0.543590930811673\n",
      "Feature 4: 0.0\n",
      "Feature 5: -0.0\n",
      "Feature 6: 0.0\n",
      "Feature 7: 0.9250151880877294\n",
      "Feature 8: -0.0\n",
      "Feature 9: 0.0\n",
      "Feature 10: 0.0\n",
      "Feature 11: 0.14099148185767268\n",
      "Feature 12: 0.0\n"
     ]
    },
    {
     "data": {
      "image/png": "[encoded data removed]",
      "text/plain": [
       "<Figure size 720x432 with 1 Axes>"
      ]
     },
     "metadata": {
      "needs_background": "light"
     },
     "output_type": "display_data"
    },
    {
     "name": "stdout",
     "output_type": "stream",
     "text": [
      "Index(['Search Engine Bid', 'Clicks', 'Click Charges', 'Avg. Cost per Click', 'Engine Click Thru %', 'Avg. Pos.', 'Trans. Conv. %', 'Total Cost/ Trans.', 'Amount', 'Total Cost', 'Probability of Action', 'Number of Conversions', 'SPS for Keyword Groups'], dtype='object')\n",
      "\n",
      "Best Parameters:\n",
      "alpha: 0.40046313368206166\n",
      "\n",
      "Test Score: 0.051321743003639564\n"
     ]
    }
   ],
   "source": [
    "# Manual hyperparameter tuning\n",
    "best_params = {\n",
    "    'alpha': 0.40046313368206166 \n",
    "}\n",
    "\n",
    "# Create the final model with the best parameters\n",
    "not_best_model = Lasso(**best_params, random_state=42)\n",
    "\n",
    "# Fit the final model to the training data\n",
    "not_best_model.fit(x_train, y_train)\n",
    "\n",
    "\n",
    "\n",
    "# Predict on the training data using the final model\n",
    "not_best_model_train_pred = not_best_model.predict(x_train)\n",
    "\n",
    "# Predict on the test data using the final model\n",
    "not_best_model_test_pred = not_best_model.predict(x_test)\n",
    "\n",
    "# Calculate R^2 score on training data\n",
    "train_score = r2_score(y_train, not_best_model_train_pred)\n",
    "\n",
    "# Calculate R^2 score on test data\n",
    "test_score = r2_score(y_test, not_best_model_test_pred)\n",
    "\n",
    "# Calculate the difference between training and test scores\n",
    "score_difference = abs(train_score - test_score).round(4)\n",
    "\n",
    "\n",
    "\n",
    "# Output training score\n",
    "print(\"Training Score (R^2):\", train_score)\n",
    "\n",
    "# Output test score\n",
    "print(\"Test Score (R^2):\", test_score)\n",
    "\n",
    "# Output the difference between training and test scores\n",
    "print(\"Train-Test Gap:\", score_difference)\n",
    "\n",
    "# Calculate RMSE\n",
    "train_rmse = np.sqrt(mean_squared_error(y_train, not_best_model_train_pred))\n",
    "test_rmse = np.sqrt(mean_squared_error(y_test, not_best_model_test_pred))\n",
    "\n",
    "print(\"Training RMSE:\", train_rmse)\n",
    "\n",
    "print(\"Test RMSE:\", test_rmse)\n",
    "\n",
    "# Output coefficients\n",
    "coefficients = not_best_model.coef_\n",
    "print(\"Coefficients:\")\n",
    "for i, coef in enumerate(coefficients):\n",
    "    print(f\"Feature {i}: {coef}\")\n",
    "\n",
    "# Get feature names\n",
    "feature_names = x_train.columns\n",
    "\n",
    "# Visualize coefficients\n",
    "plt.figure(figsize=(10, 6)) # set the size\n",
    "plt.bar(feature_names, coefficients) # set graph \n",
    "plt.xlabel('Feature') # set xlabel\n",
    "plt.ylabel('Coefficient Value') # set ylabel\n",
    "plt.title('Lasso Coefficients') # set title\n",
    "plt.xticks(rotation=45, ha='right')\n",
    "plt.tight_layout()\n",
    "plt.show()\n",
    "\n",
    "print(feature_names)\n",
    "print(\"\\nBest Parameters:\")\n",
    "for param, value in best_params.items():\n",
    "    print(f\"{param}: {value}\")\n",
    "print(\"\\nTest Score:\", test_score)\n",
    "\n",
    "\n"
   ]
  },
  {
   "cell_type": "markdown",
   "metadata": {},
   "source": [
    "### Decision Tree Model with Hyper-parameter tuning"
   ]
  },
  {
   "cell_type": "markdown",
   "metadata": {},
   "source": [
    "The results for the Decision Tree model show that the model performs better than Lasso Regression, with higher R^2 values for both Training Score and Test Score and better explanatory power for the predictions. relatively large, suggesting that an over-training problem may be present.\n",
    "\n",
    "The RMSE is 9.22 (Training) and 3.78 (Test). This indicates that the Decision Tree model shows relatively good prediction accuracy on both training and test data.\n",
    "\n",
    "However, the following are possible reasons why the RMSE is still a little high It is likely that the Decision Tree model can model nonlinear relationships between features, but overly deep trees are causing over-training."
   ]
  },
  {
   "cell_type": "code",
   "execution_count": 27,
   "metadata": {},
   "outputs": [
    {
     "data": {
      "image/png": "[encoded data removed]",
      "text/plain": [
       "<Figure size 720x432 with 1 Axes>"
      ]
     },
     "metadata": {
      "needs_background": "light"
     },
     "output_type": "display_data"
    },
    {
     "name": "stdout",
     "output_type": "stream",
     "text": [
      "Best Parameters:\n",
      "max_depth: 12\n",
      "min_samples_split: 2\n",
      "min_samples_leaf: 9\n",
      "Training Score (R^2): 0.47406956358348706\n",
      "Test Score (R^2): 0.6904424280735648\n",
      "Train-Test Gap: 0.2164\n",
      "Training RMSE: 9.225988615406811\n",
      "Test RMSE: 3.7856017500672996\n",
      "Best Parameters: {'max_depth': 12, 'min_samples_split': 2, 'min_samples_leaf': 9}\n"
     ]
    }
   ],
   "source": [
    "# Manual hyperparameter tuning\n",
    "best_params = {\n",
    "    'max_depth': 12,\n",
    "    'min_samples_split': 2,\n",
    "    'min_samples_leaf': 9\n",
    "}\n",
    "\n",
    "# Create the final model with the best parameters\n",
    "not_best_model = DecisionTreeRegressor(**best_params)\n",
    "\n",
    "# Fit the final model to the training data\n",
    "not_best_model.fit(x_train, y_train)\n",
    "\n",
    "# Predict on the test data using the final model\n",
    "model_pred = not_best_model.predict(x_test)\n",
    "\n",
    "# Calculate R^2 score\n",
    "test_score = r2_score(y_test, model_pred)\n",
    "\n",
    "# Visualize feature importances\n",
    "feature_importances = not_best_model.feature_importances_\n",
    "plt.figure(figsize=(10, 6)) # set the size \n",
    "plt.barh(x_train.columns, feature_importances, color='skyblue') # set the gragh\n",
    "plt.xlabel('Feature Importance') # set the xlable\n",
    "plt.ylabel('Features') # set ylable\n",
    "plt.title('Feature Importance (Decision Tree)') # set title\n",
    "plt.show()\n",
    "\n",
    "print(\"Best Parameters:\")\n",
    "for param, value in best_params.items():\n",
    "    print(f\"{param}: {value}\")\n",
    "\n",
    "\n",
    "# Predict on the training data using the final model\n",
    "not_best_model_train_pred = not_best_model.predict(x_train)\n",
    "\n",
    "# Predict on the test data using the final model\n",
    "not_best_model_test_pred = not_best_model.predict(x_test)\n",
    "\n",
    "# Calculate R^2 score on training data\n",
    "train_score = r2_score(y_train, not_best_model_train_pred)\n",
    "\n",
    "# Calculate R^2 score on test data\n",
    "test_score = r2_score(y_test, not_best_model_test_pred)\n",
    "\n",
    "# Calculate the difference between training and test scores\n",
    "score_difference = abs(train_score - test_score).round(4)\n",
    "\n",
    "# Output training score\n",
    "print(\"Training Score (R^2):\", train_score)\n",
    "\n",
    "# Output test score\n",
    "print(\"Test Score (R^2):\", test_score)\n",
    "\n",
    "# Output the difference between training and test scores\n",
    "print(\"Train-Test Gap:\", score_difference)\n",
    "\n",
    "# Calculate RMSE\n",
    "train_rmse = np.sqrt(mean_squared_error(y_train, not_best_model_train_pred))\n",
    "test_rmse = np.sqrt(mean_squared_error(y_test, not_best_model_test_pred))\n",
    "\n",
    "print(\"Training RMSE:\", train_rmse)\n",
    "\n",
    "print(\"Test RMSE:\", test_rmse)\n",
    "\n",
    "\n",
    "print(\"Best Parameters:\", best_params)\n"
   ]
  },
  {
   "cell_type": "markdown",
   "metadata": {},
   "source": [
    "### KNN Model with Hyper-parameter tuning"
   ]
  },
  {
   "cell_type": "markdown",
   "metadata": {},
   "source": [
    "The results for the KNN model show a Training Score of 1.0 and a Test Score of 0.78. The Train-Test Gap is 0.21, indicating that the model is over-trained.\n",
    "\n",
    "It also shows that the RMSE is lower than the other two models. The low RMSE for both the training and test data suggests that the KNN model fits the data well and has good generalization ability.\n",
    "\n",
    "A possible reason for the high performance of the KNN model can be attributed to its features: the KNN has the ability to capture nonlinear relationships and can be flexibly adapted to the data. This makes the model particularly effective even when the data is high dimensional."
   ]
  },
  {
   "cell_type": "code",
   "execution_count": 28,
   "metadata": {
    "scrolled": true
   },
   "outputs": [
    {
     "name": "stdout",
     "output_type": "stream",
     "text": [
      "Training Score (R^2): 1.0\n",
      "Test Score (R^2): 0.7837227313857982\n",
      "Train-Test Gap: 0.2163\n",
      "Training RMSE: 0.0\n",
      "Test RMSE: 3.164241674191449\n",
      "Best Parameters: {'n_neighbors': 20, 'weights': 'distance', 'algorithm': 'kd_tree'}\n"
     ]
    },
    {
     "data": {
      "image/png": "[encoded data removed]",
      "text/plain": [
       "<Figure size 720x432 with 1 Axes>"
      ]
     },
     "metadata": {
      "needs_background": "light"
     },
     "output_type": "display_data"
    }
   ],
   "source": [
    "# Manual hyperparameter tuning\n",
    "best_params = {\n",
    "    'n_neighbors': 20,\n",
    "    'weights': 'distance',\n",
    "    'algorithm': 'kd_tree'\n",
    "}\n",
    "# Create the final model with the best parameters\n",
    "best_model = KNeighborsRegressor(**best_params)\n",
    "\n",
    "# Fit the final model to the training data\n",
    "best_model.fit(x_train, y_train)\n",
    "\n",
    "\n",
    "# Predict on the training data using the final model\n",
    "best_model_train_pred = best_model.predict(x_train)\n",
    "\n",
    "# Predict on the test data using the final model\n",
    "model_pred = best_model.predict(x_test)\n",
    "\n",
    "# Calculate R^2 score on training data\n",
    "train_score = r2_score(y_train, best_model_train_pred)\n",
    "\n",
    "# Calculate R^2 score on test data\n",
    "test_score = r2_score(y_test, model_pred)\n",
    "\n",
    "# Calculate the difference between training and test scores\n",
    "score_difference = abs(train_score - test_score).round(4)\n",
    "\n",
    "# Output training score\n",
    "print(\"Training Score (R^2):\", train_score)\n",
    "\n",
    "# Output test score\n",
    "print(\"Test Score (R^2):\", test_score)\n",
    "\n",
    "# Output the difference between training and test scores\n",
    "print(\"Train-Test Gap:\", score_difference)\n",
    "\n",
    "# Calculate RMSE\n",
    "train_rmse = np.sqrt(mean_squared_error(y_train, best_model_train_pred))\n",
    "test_rmse = np.sqrt(mean_squared_error(y_test, model_pred))\n",
    "\n",
    "print(\"Training RMSE:\", train_rmse)\n",
    "\n",
    "print(\"Test RMSE:\", test_rmse)\n",
    "\n",
    "print(\"Best Parameters:\", best_params)\n",
    "\n",
    "\n",
    "\n",
    "\n",
    "\n",
    "# Visualize predicted vs actual values\n",
    "plt.figure(figsize=(10, 6)) # set the size\n",
    "plt.scatter(y_test, model_pred, color='blue') # set the graph\n",
    "plt.plot([y_test.min(), y_test.max()], [y_test.min(), y_test.max()], linestyle='--', color='red')\n",
    "plt.xlabel('Actual') # set xlabel\n",
    "plt.ylabel('Predicted') # set ylable\n",
    "plt.title('Actual vs Predicted Values (KNN)') # set title\n",
    "plt.show()\n"
   ]
  },
  {
   "cell_type": "markdown",
   "metadata": {},
   "source": [
    "### Final Model Selection\n",
    "We finally select KNN as our final model. \n",
    "The main reason is that the KNN model has the lowest RMSE on the test set.\n",
    "And,the smallest average error between predicted and measured values. \n",
    "This indicates that the KNN model better fits the characteristics of the data.\n",
    "In addition, the KNN model showed higher predictive performance than the other two models, with an R^2 score of 0.78 on the test set.\n",
    "This is better than the results of the other models, suggesting that it is able to make more accurate predictions.\n",
    "Additionally, it is important to note that there were no excessive differences between the model's training and test scores.\n",
    "The gap between the training score (R2 = 1.0) and the test score (R2 = 0.78) for the KNN model was 0.21.\n",
    "This suggests that the problem of overtraining is relatively suppressed.\n",
    "This indicates that over-training is likely occurring.\n",
    "### For those reasons, we select the KNN model as our final model on above cell."
   ]
  },
  {
   "cell_type": "markdown",
   "metadata": {
    "deletable": false,
    "editable": false,
    "run_control": {
     "frozen": true
    }
   },
   "source": [
    "<br>\n",
    "<h3>Residual Analysis</h3><br>"
   ]
  },
  {
   "cell_type": "code",
   "execution_count": 29,
   "metadata": {},
   "outputs": [
    {
     "data": {
      "text/html": [
       "<div>\n",
       "<style scoped>\n",
       "    .dataframe tbody tr th:only-of-type {\n",
       "        vertical-align: middle;\n",
       "    }\n",
       "\n",
       "    .dataframe tbody tr th {\n",
       "        vertical-align: top;\n",
       "    }\n",
       "\n",
       "    .dataframe thead th {\n",
       "        text-align: right;\n",
       "    }\n",
       "</style>\n",
       "<table border=\"1\" class=\"dataframe\">\n",
       "  <thead>\n",
       "    <tr style=\"text-align: right;\">\n",
       "      <th></th>\n",
       "      <th>True</th>\n",
       "      <th>Predicted</th>\n",
       "    </tr>\n",
       "  </thead>\n",
       "  <tbody>\n",
       "    <tr>\n",
       "      <th>3605</th>\n",
       "      <td>0.0</td>\n",
       "      <td>0.000000</td>\n",
       "    </tr>\n",
       "    <tr>\n",
       "      <th>1191</th>\n",
       "      <td>0.0</td>\n",
       "      <td>0.000000</td>\n",
       "    </tr>\n",
       "    <tr>\n",
       "      <th>4217</th>\n",
       "      <td>13.0</td>\n",
       "      <td>8.532682</td>\n",
       "    </tr>\n",
       "    <tr>\n",
       "      <th>4001</th>\n",
       "      <td>0.0</td>\n",
       "      <td>0.000000</td>\n",
       "    </tr>\n",
       "    <tr>\n",
       "      <th>1405</th>\n",
       "      <td>0.0</td>\n",
       "      <td>0.000000</td>\n",
       "    </tr>\n",
       "  </tbody>\n",
       "</table>\n",
       "</div>"
      ],
      "text/plain": [
       "      True  Predicted\n",
       "3605   0.0   0.000000\n",
       "1191   0.0   0.000000\n",
       "4217  13.0   8.532682\n",
       "4001   0.0   0.000000\n",
       "1405   0.0   0.000000"
      ]
     },
     "execution_count": 29,
     "metadata": {},
     "output_type": "execute_result"
    }
   ],
   "source": [
    "## Residual Analysis ##\n",
    "\n",
    "# organizing residuals\n",
    "model_residuals = {\"True\"            : y_test,\n",
    "                   \"Predicted\"       : model_pred\n",
    "                  }\n",
    "\n",
    "\n",
    "# converting residuals into df\n",
    "model_resid_df = pd.DataFrame(data = model_residuals)\n",
    "\n",
    "\n",
    "# checking results\n",
    "model_resid_df.head(n = 5)\n",
    "\n",
    "\n",
    "#!###########################!#\n",
    "#!# add more code as needed #!#\n",
    "#!###########################!#\n",
    "\n"
   ]
  },
  {
   "cell_type": "markdown",
   "metadata": {
    "deletable": false,
    "editable": false,
    "run_control": {
     "frozen": true
    }
   },
   "source": [
    "<hr style=\"height:.9px;border:none;color:#333;background-color:#333;\" /><br>\n",
    "\n",
    "<h2>Part IV: Preparing Submission File for Kaggle</h2><br>\n",
    "The code below will store the predicted values for each of the models above."
   ]
  },
  {
   "cell_type": "code",
   "execution_count": 30,
   "metadata": {
    "deletable": false,
    "editable": false
   },
   "outputs": [],
   "source": [
    "# x-data\n",
    "x_data_kaggle = kaggle_data[x_features].copy()\n",
    "\n",
    "\n",
    "# y-data\n",
    "y_data_kaggle = kaggle_data[y_variable]\n",
    "\n",
    "\n",
    "# Fitting model from above to the Kaggle test data\n",
    "kaggle_predictions = best_model.predict(x_data_kaggle)"
   ]
  },
  {
   "cell_type": "markdown",
   "metadata": {
    "deletable": false,
    "editable": false,
    "run_control": {
     "frozen": true
    }
   },
   "source": [
    "<br>\n",
    "<h3>Creating the Kaggle File</h3><br>"
   ]
  },
  {
   "cell_type": "code",
   "execution_count": 31,
   "metadata": {},
   "outputs": [],
   "source": [
    "## Kaggle Submission File ##\n",
    "\n",
    "# organizing predictions\n",
    "model_predictions = {\"Total Volume of Bookings\" : kaggle_predictions}\n",
    "\n",
    "\n",
    "# converting predictions into df\n",
    "model_pred_df = pd.DataFrame(data  = model_predictions,\n",
    "                             index = df_test.index)\n",
    "\n",
    "\n",
    "#!######################!#\n",
    "#!# name the .csv file #!#\n",
    "#!######################!#\n",
    "\n",
    "# sending predictions to .csv\n",
    "#model_pred_df.to_csv(path_or_buf = \"./Team3_ing_our_best_submission.csv\",\n",
    "#                     index       = True,\n",
    "#                     index_label = 'entry_id')"
   ]
  },
  {
   "cell_type": "markdown",
   "metadata": {},
   "source": [
    "### Reference\n",
    "- OpenAI. (2024). ChatGPT (3.5) [Large language model]. https://chat.openai.com : \n",
    "  https://chat.openai.com/share/b27a508d-01e8-40f4-8c74-2612a8c520b2"
   ]
  },
  {
   "cell_type": "markdown",
   "metadata": {
    "deletable": false,
    "editable": false
   },
   "source": [
    "<br>"
   ]
  },
  {
   "cell_type": "markdown",
   "metadata": {
    "deletable": false,
    "editable": false,
    "run_control": {
     "frozen": true
    }
   },
   "source": [
    "<br>"
   ]
  }
 ],
 "metadata": {
  "kernelspec": {
   "display_name": "Python 3 (ipykernel)",
   "language": "python",
   "name": "python3"
  },
  "language_info": {
   "codemirror_mode": {
    "name": "ipython",
    "version": 3
   },
   "file_extension": ".py",
   "mimetype": "text/x-python",
   "name": "python",
   "nbconvert_exporter": "python",
   "pygments_lexer": "ipython3",
   "version": "3.9.7"
  },
  "toc": {
   "base_numbering": 1,
   "nav_menu": {},
   "number_sections": false,
   "sideBar": true,
   "skip_h1_title": false,
   "title_cell": "Table of Contents",
   "title_sidebar": "Contents",
   "toc_cell": false,
   "toc_position": {
    "height": "calc(100% - 180px)",
    "left": "10px",
    "top": "150px",
    "width": "288px"
   },
   "toc_section_display": true,
   "toc_window_display": false
  },
  "varInspector": {
   "cols": {
    "lenName": 16,
    "lenType": 16,
    "lenVar": 40
   },
   "kernels_config": {
    "python": {
     "delete_cmd_postfix": "",
     "delete_cmd_prefix": "del ",
     "library": "var_list.py",
     "varRefreshCmd": "print(var_dic_list())"
    },
    "r": {
     "delete_cmd_postfix": ") ",
     "delete_cmd_prefix": "rm(",
     "library": "var_list.r",
     "varRefreshCmd": "cat(var_dic_list()) "
    }
   },
   "types_to_exclude": [
    "module",
    "function",
    "builtin_function_or_method",
    "instance",
    "_Feature"
   ],
   "window_display": false
  }
 },
 "nbformat": 4,
 "nbformat_minor": 2
}
